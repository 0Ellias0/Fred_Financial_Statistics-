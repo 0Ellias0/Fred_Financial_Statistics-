{
 "cells": [
  {
   "cell_type": "code",
   "execution_count": 12,
   "metadata": {},
   "outputs": [],
   "source": [
    "# Data Manipulation and Visualization \n",
    "import pandas as pd, numpy as np, matplotlib.pyplot as plt, seaborn as sns, plotly_express as px\n",
    "\n",
    "#Hide API Key \n",
    "import creds\n",
    "\n",
    "# setting theme style and seaborn Palette \n",
    "sns.set_theme(context = 'notebook', style='darkgrid', palette='muted')\n",
    "\n",
    "\n",
    "from fredapi import Fred\n"
   ]
  },
  {
   "cell_type": "markdown",
   "metadata": {},
   "source": [
    "# 1. Create a Fred Object"
   ]
  },
  {
   "cell_type": "code",
   "execution_count": 13,
   "metadata": {},
   "outputs": [],
   "source": [
    "fred = Fred(api_key=creds.fred_key)"
   ]
  }
 ],
 "metadata": {
  "kernelspec": {
   "display_name": "tfHebert",
   "language": "python",
   "name": "python3"
  },
  "language_info": {
   "codemirror_mode": {
    "name": "ipython",
    "version": 3
   },
   "file_extension": ".py",
   "mimetype": "text/x-python",
   "name": "python",
   "nbconvert_exporter": "python",
   "pygments_lexer": "ipython3",
   "version": "3.9.18"
  }
 },
 "nbformat": 4,
 "nbformat_minor": 2
}
